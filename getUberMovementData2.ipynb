{
 "cells": [
  {
   "cell_type": "code",
   "execution_count": 2,
   "id": "cffd9c7f",
   "metadata": {},
   "outputs": [],
   "source": [
    "import pandas as pd\n",
    "import numpy as np \n",
    "import os \n",
    "import time\n",
    "from selenium import webdriver\n",
    "from selenium.webdriver.common.by import By\n",
    "from webdriver_manager.chrome import ChromeDriverManager\n",
    "from datetime import datetime, timedelta"
   ]
  },
  {
   "cell_type": "code",
   "execution_count": 3,
   "id": "233b0225",
   "metadata": {},
   "outputs": [],
   "source": [
    "def generate_date_ranges(start_date_str, end_date_str):\n",
    "    start_date = datetime.strptime(start_date_str, '%Y-%m-%d')\n",
    "    end_date = datetime.strptime(end_date_str, '%Y-%m-%d')\n",
    "    \n",
    "    date_ranges = []\n",
    "    current_date = start_date\n",
    "    while current_date <= end_date:\n",
    "        next_date = current_date + timedelta(days=89)\n",
    "        if next_date > end_date:\n",
    "            next_date = end_date\n",
    "        date_ranges.append((\n",
    "            current_date.strftime('%Y-%m-%d'),\n",
    "            next_date.strftime('%Y-%m-%d')\n",
    "        ))\n",
    "        current_date = next_date + timedelta(days=1)\n",
    "    \n",
    "    return date_ranges"
   ]
  },
  {
   "cell_type": "code",
   "execution_count": 7,
   "id": "3b301da4",
   "metadata": {},
   "outputs": [],
   "source": [
    "def downloader(city, date_range, origin_code, destinations, download_path):\n",
    "    options = webdriver.ChromeOptions()\n",
    "    options.add_argument(\"user-data-dir=\"+chrome_path)\n",
    "    options.add_experimental_option('prefs', {'download.default_directory': download_path})\n",
    "    driver = webdriver.Chrome(executable_path=\"C:\\\\Users\\\\chromedriver.exe\", options=options)\n",
    "    time.sleep(1)\n",
    "    \n",
    "    for dest_code in destinations:\n",
    "        time.sleep(2)\n",
    "        for start, end in date_range:\n",
    "            driver.get(\"https://movement.uber.com/explore/\"+city+\"/travel-times/query?si=\"+str(origin_code)+\"&ti=\"+str(dest_code)+\"&ag=taz&dt[tpb]=ALL_DAY&dt[wd;]=1,2,3,4,5,6,7&dt[dr][sd]=\"+start+\"&dt[dr][ed]=\"+end+\"&cd=&sa;=&sdn=&lng.=-118.4381172&lat.=33.9959289&z.=10.55&ta;=&tdn=&lang=en-US\")\n",
    "            \n",
    "            time.sleep(4)\n",
    "            download = driver.find_element(By.XPATH, \"/html/body/div[1]/div[1]/div[1]/div[4]/div/div[3]/button\")\n",
    "            download.click()\n",
    "            \n",
    "            time.sleep(1)\n",
    "            ts_download = driver.find_element(By.XPATH, '/html/body/div[1]/div[2]/div/div/div[2]/div/div/div/div[1]/div/button[2]')\n",
    "            ts_download.click()\n",
    "            time.sleep(2)\n",
    "            \n",
    "            # Get the file name of the downloaded file\n",
    "            file_name = max([download_path + f for f in os.listdir(download_path)], key=os.path.getctime)\n",
    "            # Rename the file\n",
    "            new_file_name = str(dest_code) + \"_\" + start + \"_\" + end + \".csv\"\n",
    "            os.rename(file_name, download_path + new_file_name)\n",
    "            "
   ]
  },
  {
   "cell_type": "code",
   "execution_count": 13,
   "id": "257b1d55",
   "metadata": {},
   "outputs": [
    {
     "name": "stdout",
     "output_type": "stream",
     "text": [
      "Number of files expected: 18\n"
     ]
    },
    {
     "data": {
      "text/plain": [
       "[('2016-01-01', '2016-03-30'),\n",
       " ('2016-03-31', '2016-06-28'),\n",
       " ('2016-06-29', '2016-09-26'),\n",
       " ('2016-09-27', '2016-12-25'),\n",
       " ('2016-12-26', '2017-03-25'),\n",
       " ('2017-03-26', '2017-06-23'),\n",
       " ('2017-06-24', '2017-09-21'),\n",
       " ('2017-09-22', '2017-12-20'),\n",
       " ('2017-12-21', '2018-03-20'),\n",
       " ('2018-03-21', '2018-06-18'),\n",
       " ('2018-06-19', '2018-09-16'),\n",
       " ('2018-09-17', '2018-12-15'),\n",
       " ('2018-12-16', '2019-03-15'),\n",
       " ('2019-03-16', '2019-06-13'),\n",
       " ('2019-06-14', '2019-09-11'),\n",
       " ('2019-09-12', '2019-12-10'),\n",
       " ('2019-12-11', '2020-03-09'),\n",
       " ('2020-03-10', '2020-03-31')]"
      ]
     },
     "execution_count": 13,
     "metadata": {},
     "output_type": "execute_result"
    }
   ],
   "source": [
    "print(\"Number of files expected:\", len(date_range))\n",
    "date_range"
   ]
  },
  {
   "cell_type": "code",
   "execution_count": 5,
   "id": "f41b3621",
   "metadata": {},
   "outputs": [],
   "source": [
    "# Inputs\n",
    "date_range = generate_date_ranges(\"2016-01-01\", \"2020-03-31\") \n",
    "destinations = [0]\n",
    "# Change below to your details\n",
    "download_path = \"/Users/deepakvanjani/Library/Mobile Documents/com~apple~CloudDocs/UChicago/Spring 2023/Time Series/Project/Data/\"\n",
    "chrome_path = r\"C:\\Users/deepakvanjani/Library/Application Support/Google/Chrome/Default\""
   ]
  },
  {
   "cell_type": "code",
   "execution_count": 8,
   "id": "5b7fb4cc",
   "metadata": {},
   "outputs": [
    {
     "name": "stderr",
     "output_type": "stream",
     "text": [
      "/var/folders/by/91zkqykd19b1dytsvy4g66j00000gn/T/ipykernel_1915/2430762968.py:5: DeprecationWarning: executable_path has been deprecated, please pass in a Service object\n",
      "  driver = webdriver.Chrome(executable_path=\"C:\\\\Users\\\\chromedriver.exe\", options=options)\n"
     ]
    },
    {
     "ename": "NoSuchWindowException",
     "evalue": "Message: no such window: target window already closed\nfrom unknown error: web view not found\n  (Session info: chrome=112.0.5615.137)\nStacktrace:\n0   chromedriver                        0x0000000102a25670 chromedriver + 4298352\n1   chromedriver                        0x0000000102a1dbbc chromedriver + 4266940\n2   chromedriver                        0x0000000102650758 chromedriver + 280408\n3   chromedriver                        0x000000010262acc8 chromedriver + 126152\n4   chromedriver                        0x00000001026b0aac chromedriver + 674476\n5   chromedriver                        0x00000001026c3890 chromedriver + 751760\n6   chromedriver                        0x000000010267e2d0 chromedriver + 467664\n7   chromedriver                        0x000000010267f354 chromedriver + 471892\n8   chromedriver                        0x00000001029e56c4 chromedriver + 4036292\n9   chromedriver                        0x00000001029e9c64 chromedriver + 4054116\n10  chromedriver                        0x00000001029f02d8 chromedriver + 4080344\n11  chromedriver                        0x00000001029ea970 chromedriver + 4057456\n12  chromedriver                        0x00000001029c18dc chromedriver + 3889372\n13  chromedriver                        0x0000000102a0925c chromedriver + 4182620\n14  chromedriver                        0x0000000102a093b4 chromedriver + 4182964\n15  chromedriver                        0x0000000102a180f4 chromedriver + 4243700\n16  libsystem_pthread.dylib             0x00000001b2ac026c _pthread_start + 148\n17  libsystem_pthread.dylib             0x00000001b2abb08c thread_start + 8\n",
     "output_type": "error",
     "traceback": [
      "\u001b[0;31m---------------------------------------------------------------------------\u001b[0m",
      "\u001b[0;31mNoSuchWindowException\u001b[0m                     Traceback (most recent call last)",
      "Cell \u001b[0;32mIn[8], line 2\u001b[0m\n\u001b[1;32m      1\u001b[0m \u001b[38;5;66;03m# Run Crawler\u001b[39;00m\n\u001b[0;32m----> 2\u001b[0m \u001b[43mdownloader\u001b[49m\u001b[43m(\u001b[49m\u001b[43mcity\u001b[49m\u001b[43m \u001b[49m\u001b[38;5;241;43m=\u001b[39;49m\u001b[43m \u001b[49m\u001b[38;5;124;43m'\u001b[39;49m\u001b[38;5;124;43mlos_angeles\u001b[39;49m\u001b[38;5;124;43m'\u001b[39;49m\u001b[43m,\u001b[49m\u001b[43m \u001b[49m\u001b[43mdate_range\u001b[49m\u001b[43m \u001b[49m\u001b[38;5;241;43m=\u001b[39;49m\u001b[43m \u001b[49m\u001b[43mdate_range\u001b[49m\u001b[43m,\u001b[49m\n\u001b[1;32m      3\u001b[0m \u001b[43m           \u001b[49m\u001b[43morigin_code\u001b[49m\u001b[43m \u001b[49m\u001b[38;5;241;43m=\u001b[39;49m\u001b[43m \u001b[49m\u001b[38;5;241;43m734\u001b[39;49m\u001b[43m,\u001b[49m\u001b[43m \u001b[49m\u001b[43mdestinations\u001b[49m\u001b[43m \u001b[49m\u001b[38;5;241;43m=\u001b[39;49m\u001b[43m \u001b[49m\u001b[43mdestinations\u001b[49m\u001b[43m,\u001b[49m\n\u001b[1;32m      4\u001b[0m \u001b[43m           \u001b[49m\u001b[43mdownload_path\u001b[49m\u001b[43m \u001b[49m\u001b[38;5;241;43m=\u001b[39;49m\u001b[43m \u001b[49m\u001b[43mdownload_path\u001b[49m\u001b[43m)\u001b[49m\n",
      "Cell \u001b[0;32mIn[7], line 14\u001b[0m, in \u001b[0;36mdownloader\u001b[0;34m(city, date_range, origin_code, destinations, download_path)\u001b[0m\n\u001b[1;32m     11\u001b[0m driver\u001b[38;5;241m.\u001b[39mget(\u001b[38;5;124m\"\u001b[39m\u001b[38;5;124mhttps://movement.uber.com/explore/\u001b[39m\u001b[38;5;124m\"\u001b[39m\u001b[38;5;241m+\u001b[39mcity\u001b[38;5;241m+\u001b[39m\u001b[38;5;124m\"\u001b[39m\u001b[38;5;124m/travel-times/query?si=\u001b[39m\u001b[38;5;124m\"\u001b[39m\u001b[38;5;241m+\u001b[39m\u001b[38;5;28mstr\u001b[39m(origin_code)\u001b[38;5;241m+\u001b[39m\u001b[38;5;124m\"\u001b[39m\u001b[38;5;124m&ti=\u001b[39m\u001b[38;5;124m\"\u001b[39m\u001b[38;5;241m+\u001b[39m\u001b[38;5;28mstr\u001b[39m(dest_code)\u001b[38;5;241m+\u001b[39m\u001b[38;5;124m\"\u001b[39m\u001b[38;5;124m&ag=taz&dt[tpb]=ALL_DAY&dt[wd;]=1,2,3,4,5,6,7&dt[dr][sd]=\u001b[39m\u001b[38;5;124m\"\u001b[39m\u001b[38;5;241m+\u001b[39mstart\u001b[38;5;241m+\u001b[39m\u001b[38;5;124m\"\u001b[39m\u001b[38;5;124m&dt[dr][ed]=\u001b[39m\u001b[38;5;124m\"\u001b[39m\u001b[38;5;241m+\u001b[39mend\u001b[38;5;241m+\u001b[39m\u001b[38;5;124m\"\u001b[39m\u001b[38;5;124m&cd=&sa;=&sdn=&lng.=-118.4381172&lat.=33.9959289&z.=10.55&ta;=&tdn=&lang=en-US\u001b[39m\u001b[38;5;124m\"\u001b[39m)\n\u001b[1;32m     13\u001b[0m time\u001b[38;5;241m.\u001b[39msleep(\u001b[38;5;241m4\u001b[39m)\n\u001b[0;32m---> 14\u001b[0m download \u001b[38;5;241m=\u001b[39m \u001b[43mdriver\u001b[49m\u001b[38;5;241;43m.\u001b[39;49m\u001b[43mfind_element\u001b[49m\u001b[43m(\u001b[49m\u001b[43mBy\u001b[49m\u001b[38;5;241;43m.\u001b[39;49m\u001b[43mXPATH\u001b[49m\u001b[43m,\u001b[49m\u001b[43m \u001b[49m\u001b[38;5;124;43m\"\u001b[39;49m\u001b[38;5;124;43m/html/body/div[1]/div[1]/div[1]/div[4]/div/div[3]/button\u001b[39;49m\u001b[38;5;124;43m\"\u001b[39;49m\u001b[43m)\u001b[49m\n\u001b[1;32m     15\u001b[0m download\u001b[38;5;241m.\u001b[39mclick()\n\u001b[1;32m     17\u001b[0m time\u001b[38;5;241m.\u001b[39msleep(\u001b[38;5;241m1\u001b[39m)\n",
      "File \u001b[0;32m~/anaconda3/lib/python3.10/site-packages/selenium/webdriver/remote/webdriver.py:831\u001b[0m, in \u001b[0;36mWebDriver.find_element\u001b[0;34m(self, by, value)\u001b[0m\n\u001b[1;32m    828\u001b[0m     by \u001b[38;5;241m=\u001b[39m By\u001b[38;5;241m.\u001b[39mCSS_SELECTOR\n\u001b[1;32m    829\u001b[0m     value \u001b[38;5;241m=\u001b[39m \u001b[38;5;124mf\u001b[39m\u001b[38;5;124m'\u001b[39m\u001b[38;5;124m[name=\u001b[39m\u001b[38;5;124m\"\u001b[39m\u001b[38;5;132;01m{\u001b[39;00mvalue\u001b[38;5;132;01m}\u001b[39;00m\u001b[38;5;124m\"\u001b[39m\u001b[38;5;124m]\u001b[39m\u001b[38;5;124m'\u001b[39m\n\u001b[0;32m--> 831\u001b[0m \u001b[38;5;28;01mreturn\u001b[39;00m \u001b[38;5;28;43mself\u001b[39;49m\u001b[38;5;241;43m.\u001b[39;49m\u001b[43mexecute\u001b[49m\u001b[43m(\u001b[49m\u001b[43mCommand\u001b[49m\u001b[38;5;241;43m.\u001b[39;49m\u001b[43mFIND_ELEMENT\u001b[49m\u001b[43m,\u001b[49m\u001b[43m \u001b[49m\u001b[43m{\u001b[49m\u001b[38;5;124;43m\"\u001b[39;49m\u001b[38;5;124;43musing\u001b[39;49m\u001b[38;5;124;43m\"\u001b[39;49m\u001b[43m:\u001b[49m\u001b[43m \u001b[49m\u001b[43mby\u001b[49m\u001b[43m,\u001b[49m\u001b[43m \u001b[49m\u001b[38;5;124;43m\"\u001b[39;49m\u001b[38;5;124;43mvalue\u001b[39;49m\u001b[38;5;124;43m\"\u001b[39;49m\u001b[43m:\u001b[49m\u001b[43m \u001b[49m\u001b[43mvalue\u001b[49m\u001b[43m}\u001b[49m\u001b[43m)\u001b[49m[\u001b[38;5;124m\"\u001b[39m\u001b[38;5;124mvalue\u001b[39m\u001b[38;5;124m\"\u001b[39m]\n",
      "File \u001b[0;32m~/anaconda3/lib/python3.10/site-packages/selenium/webdriver/remote/webdriver.py:440\u001b[0m, in \u001b[0;36mWebDriver.execute\u001b[0;34m(self, driver_command, params)\u001b[0m\n\u001b[1;32m    438\u001b[0m response \u001b[38;5;241m=\u001b[39m \u001b[38;5;28mself\u001b[39m\u001b[38;5;241m.\u001b[39mcommand_executor\u001b[38;5;241m.\u001b[39mexecute(driver_command, params)\n\u001b[1;32m    439\u001b[0m \u001b[38;5;28;01mif\u001b[39;00m response:\n\u001b[0;32m--> 440\u001b[0m     \u001b[38;5;28;43mself\u001b[39;49m\u001b[38;5;241;43m.\u001b[39;49m\u001b[43merror_handler\u001b[49m\u001b[38;5;241;43m.\u001b[39;49m\u001b[43mcheck_response\u001b[49m\u001b[43m(\u001b[49m\u001b[43mresponse\u001b[49m\u001b[43m)\u001b[49m\n\u001b[1;32m    441\u001b[0m     response[\u001b[38;5;124m\"\u001b[39m\u001b[38;5;124mvalue\u001b[39m\u001b[38;5;124m\"\u001b[39m] \u001b[38;5;241m=\u001b[39m \u001b[38;5;28mself\u001b[39m\u001b[38;5;241m.\u001b[39m_unwrap_value(response\u001b[38;5;241m.\u001b[39mget(\u001b[38;5;124m\"\u001b[39m\u001b[38;5;124mvalue\u001b[39m\u001b[38;5;124m\"\u001b[39m, \u001b[38;5;28;01mNone\u001b[39;00m))\n\u001b[1;32m    442\u001b[0m     \u001b[38;5;28;01mreturn\u001b[39;00m response\n",
      "File \u001b[0;32m~/anaconda3/lib/python3.10/site-packages/selenium/webdriver/remote/errorhandler.py:245\u001b[0m, in \u001b[0;36mErrorHandler.check_response\u001b[0;34m(self, response)\u001b[0m\n\u001b[1;32m    243\u001b[0m         alert_text \u001b[38;5;241m=\u001b[39m value[\u001b[38;5;124m\"\u001b[39m\u001b[38;5;124malert\u001b[39m\u001b[38;5;124m\"\u001b[39m]\u001b[38;5;241m.\u001b[39mget(\u001b[38;5;124m\"\u001b[39m\u001b[38;5;124mtext\u001b[39m\u001b[38;5;124m\"\u001b[39m)\n\u001b[1;32m    244\u001b[0m     \u001b[38;5;28;01mraise\u001b[39;00m exception_class(message, screen, stacktrace, alert_text)  \u001b[38;5;66;03m# type: ignore[call-arg]  # mypy is not smart enough here\u001b[39;00m\n\u001b[0;32m--> 245\u001b[0m \u001b[38;5;28;01mraise\u001b[39;00m exception_class(message, screen, stacktrace)\n",
      "\u001b[0;31mNoSuchWindowException\u001b[0m: Message: no such window: target window already closed\nfrom unknown error: web view not found\n  (Session info: chrome=112.0.5615.137)\nStacktrace:\n0   chromedriver                        0x0000000102a25670 chromedriver + 4298352\n1   chromedriver                        0x0000000102a1dbbc chromedriver + 4266940\n2   chromedriver                        0x0000000102650758 chromedriver + 280408\n3   chromedriver                        0x000000010262acc8 chromedriver + 126152\n4   chromedriver                        0x00000001026b0aac chromedriver + 674476\n5   chromedriver                        0x00000001026c3890 chromedriver + 751760\n6   chromedriver                        0x000000010267e2d0 chromedriver + 467664\n7   chromedriver                        0x000000010267f354 chromedriver + 471892\n8   chromedriver                        0x00000001029e56c4 chromedriver + 4036292\n9   chromedriver                        0x00000001029e9c64 chromedriver + 4054116\n10  chromedriver                        0x00000001029f02d8 chromedriver + 4080344\n11  chromedriver                        0x00000001029ea970 chromedriver + 4057456\n12  chromedriver                        0x00000001029c18dc chromedriver + 3889372\n13  chromedriver                        0x0000000102a0925c chromedriver + 4182620\n14  chromedriver                        0x0000000102a093b4 chromedriver + 4182964\n15  chromedriver                        0x0000000102a180f4 chromedriver + 4243700\n16  libsystem_pthread.dylib             0x00000001b2ac026c _pthread_start + 148\n17  libsystem_pthread.dylib             0x00000001b2abb08c thread_start + 8\n"
     ]
    }
   ],
   "source": [
    "# Run Crawler\n",
    "downloader(city = 'los_angeles', date_range = date_range,\n",
    "           origin_code = 734, destinations = destinations,\n",
    "           download_path = download_path)"
   ]
  },
  {
   "cell_type": "code",
   "execution_count": 74,
   "id": "839a6b34",
   "metadata": {},
   "outputs": [],
   "source": [
    "file_path = pd.read_excel(\"~/downloads/Table of Traffic Analysis Zone.xlsx\")\n",
    "file_path = file_path.iloc[:,[1,2,3]]"
   ]
  },
  {
   "cell_type": "code",
   "execution_count": 75,
   "id": "778cd1f9",
   "metadata": {},
   "outputs": [
    {
     "data": {
      "text/html": [
       "<div>\n",
       "<style scoped>\n",
       "    .dataframe tbody tr th:only-of-type {\n",
       "        vertical-align: middle;\n",
       "    }\n",
       "\n",
       "    .dataframe tbody tr th {\n",
       "        vertical-align: top;\n",
       "    }\n",
       "\n",
       "    .dataframe thead th {\n",
       "        text-align: right;\n",
       "    }\n",
       "</style>\n",
       "<table border=\"1\" class=\"dataframe\">\n",
       "  <thead>\n",
       "    <tr style=\"text-align: right;\">\n",
       "      <th></th>\n",
       "      <th>ID</th>\n",
       "      <th>Neighborhood</th>\n",
       "      <th>Uber Traffic Zone Code</th>\n",
       "    </tr>\n",
       "  </thead>\n",
       "  <tbody>\n",
       "    <tr>\n",
       "      <th>0</th>\n",
       "      <td>1</td>\n",
       "      <td>Koreatown</td>\n",
       "      <td>632</td>\n",
       "    </tr>\n",
       "    <tr>\n",
       "      <th>1</th>\n",
       "      <td>2</td>\n",
       "      <td>Westlake</td>\n",
       "      <td>15388</td>\n",
       "    </tr>\n",
       "    <tr>\n",
       "      <th>2</th>\n",
       "      <td>3</td>\n",
       "      <td>East Hollywood</td>\n",
       "      <td>682</td>\n",
       "    </tr>\n",
       "    <tr>\n",
       "      <th>3</th>\n",
       "      <td>4</td>\n",
       "      <td>Pico-Union</td>\n",
       "      <td>1535</td>\n",
       "    </tr>\n",
       "    <tr>\n",
       "      <th>4</th>\n",
       "      <td>5</td>\n",
       "      <td>Maywood</td>\n",
       "      <td>1300</td>\n",
       "    </tr>\n",
       "  </tbody>\n",
       "</table>\n",
       "</div>"
      ],
      "text/plain": [
       "   ID    Neighborhood  Uber Traffic Zone Code \n",
       "0   1       Koreatown                      632\n",
       "1   2        Westlake                    15388\n",
       "2   3  East Hollywood                      682\n",
       "3   4      Pico-Union                     1535\n",
       "4   5         Maywood                     1300"
      ]
     },
     "execution_count": 75,
     "metadata": {},
     "output_type": "execute_result"
    }
   ],
   "source": [
    "file_path.head()"
   ]
  },
  {
   "cell_type": "code",
   "execution_count": 77,
   "id": "7ffe0df0",
   "metadata": {},
   "outputs": [],
   "source": [
    "f = []\n",
    "for i in range(file_path.shape[0]):\n",
    "    f.append(str(file_path.index[i]+1) + \". \" + str(file_path.iloc[i,1]) + \" \" + \"(\" + str(int(file_path.iloc[i,2])) + \")\")"
   ]
  },
  {
   "cell_type": "code",
   "execution_count": 79,
   "id": "8c70da65",
   "metadata": {},
   "outputs": [
    {
     "data": {
      "text/plain": [
       "['21. Vermont Knolls (719)',\n",
       " '22. Panorama City (162)',\n",
       " '23. Vermont Square (659)',\n",
       " '24. Bell Gardens (1340)',\n",
       " '25. Larchmont (602)',\n",
       " '26. Pico-Robertson (506)',\n",
       " '27. Watts (1171)',\n",
       " '28. Westmont (849)',\n",
       " '29. Echo Park (1606)',\n",
       " '30. East Los Angeles (1322)']"
      ]
     },
     "execution_count": 79,
     "metadata": {},
     "output_type": "execute_result"
    }
   ],
   "source": [
    "f[20:30]"
   ]
  },
  {
   "cell_type": "code",
   "execution_count": 81,
   "id": "d7def6ab",
   "metadata": {},
   "outputs": [
    {
     "name": "stdout",
     "output_type": "stream",
     "text": [
      "21. Vermont Knolls (719) was created in /Users/deepakvanjani/Downloads.\n",
      "22. Panorama City (162) was created in /Users/deepakvanjani/Downloads.\n",
      "23. Vermont Square (659) was created in /Users/deepakvanjani/Downloads.\n",
      "24. Bell Gardens (1340) was created in /Users/deepakvanjani/Downloads.\n",
      "25. Larchmont (602) was created in /Users/deepakvanjani/Downloads.\n",
      "26. Pico-Robertson (506) was created in /Users/deepakvanjani/Downloads.\n",
      "27. Watts (1171) was created in /Users/deepakvanjani/Downloads.\n",
      "28. Westmont (849) was created in /Users/deepakvanjani/Downloads.\n",
      "29. Echo Park (1606) was created in /Users/deepakvanjani/Downloads.\n",
      "30. East Los Angeles (1322) was created in /Users/deepakvanjani/Downloads.\n"
     ]
    }
   ],
   "source": [
    "import os\n",
    "\n",
    "# Get the path to the Downloads folder\n",
    "downloads_path = os.path.expanduser(\"~/Downloads\")\n",
    "\n",
    "# List of folder names to create\n",
    "folder_names = f[20:30]\n",
    "\n",
    "# Create the folders\n",
    "for folder_name in folder_names:\n",
    "    folder_path = os.path.join(downloads_path, folder_name)\n",
    "    os.makedirs(folder_path)\n",
    "    print(f'{folder_name} was created in {downloads_path}.')"
   ]
  }
 ],
 "metadata": {
  "kernelspec": {
   "display_name": "Python 3 (ipykernel)",
   "language": "python",
   "name": "python3"
  },
  "language_info": {
   "codemirror_mode": {
    "name": "ipython",
    "version": 3
   },
   "file_extension": ".py",
   "mimetype": "text/x-python",
   "name": "python",
   "nbconvert_exporter": "python",
   "pygments_lexer": "ipython3",
   "version": "3.10.9"
  }
 },
 "nbformat": 4,
 "nbformat_minor": 5
}
